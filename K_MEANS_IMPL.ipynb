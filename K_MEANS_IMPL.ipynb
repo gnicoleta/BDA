{
  "nbformat": 4,
  "nbformat_minor": 0,
  "metadata": {
    "colab": {
      "name": "K-MEANS-IMPL.ipynb",
      "provenance": [],
      "collapsed_sections": [],
      "authorship_tag": "ABX9TyP8ztfpavMPIRQXY98xQq3B",
      "include_colab_link": true
    },
    "kernelspec": {
      "name": "python3",
      "display_name": "Python 3"
    }
  },
  "cells": [
    {
      "cell_type": "markdown",
      "metadata": {
        "id": "view-in-github",
        "colab_type": "text"
      },
      "source": [
        "<a href=\"https://colab.research.google.com/github/gnicoleta/BDA/blob/main/K_MEANS_IMPL.ipynb\" target=\"_parent\"><img src=\"https://colab.research.google.com/assets/colab-badge.svg\" alt=\"Open In Colab\"/></a>"
      ]
    },
    {
      "cell_type": "markdown",
      "metadata": {
        "id": "i0yWqgIsRXld"
      },
      "source": [
        "Fisierele sunt tinute pe google drive, iar datele incarcate din fisiere in functie de dimenisiunea aleasa pt setul de date"
      ]
    },
    {
      "cell_type": "code",
      "metadata": {
        "colab": {
          "base_uri": "https://localhost:8080/"
        },
        "id": "zeAXEEwmGPv5",
        "outputId": "d36e3508-bb61-4596-eca6-509b75f8442f"
      },
      "source": [
        "#open dataset file from drive\n",
        "from google.colab import drive\n",
        "\n",
        "drive.mount('/content/drive')\n",
        "\n",
        "\n",
        "dataset_size = 150\n",
        "data_file_path = \"/content/drive/MyDrive/BDA/Dataset1/\" + f'Iris-{str(dataset_size)}.txt'\n",
        "open(data_file_path, 'r')"
      ],
      "execution_count": 213,
      "outputs": [
        {
          "output_type": "stream",
          "text": [
            "Drive already mounted at /content/drive; to attempt to forcibly remount, call drive.mount(\"/content/drive\", force_remount=True).\n"
          ],
          "name": "stdout"
        },
        {
          "output_type": "execute_result",
          "data": {
            "text/plain": [
              "<_io.TextIOWrapper name='/content/drive/MyDrive/BDA/Dataset1/Iris-150.txt' mode='r' encoding='UTF-8'>"
            ]
          },
          "metadata": {
            "tags": []
          },
          "execution_count": 213
        }
      ]
    },
    {
      "cell_type": "markdown",
      "metadata": {
        "id": "yWlly0mBSLBl"
      },
      "source": [
        "Setul de date este citit din fisier si incarcat intr-un dataframe, care mai apoi este prelucrat la forma dorita (in cazul de fata fara ultima coloana, feature, pt a facilita calcularea distantelor)"
      ]
    },
    {
      "cell_type": "code",
      "metadata": {
        "id": "aErHrp-Kh8Cc"
      },
      "source": [
        "#load data\n",
        "import numpy as np\n",
        "import pandas as pd\n",
        "\n",
        "np.random.seed(50)\n",
        "\n",
        "data_frame = pd.read_csv(data_file_path, header=None)\n",
        "iris_data = data_frame.values\n",
        "\n",
        "#fara label -> ai nevoie doar de nr ca sa poti calcula distanta\n",
        "data = iris_data[:, :iris_data.shape[1]-1]\n"
      ],
      "execution_count": 214,
      "outputs": []
    },
    {
      "cell_type": "code",
      "metadata": {
        "colab": {
          "base_uri": "https://localhost:8080/",
          "height": 204
        },
        "id": "Qr_F-dxRPrIw",
        "outputId": "78b97512-1f11-491e-8273-746373c50e7c"
      },
      "source": [
        "data_frame.head()"
      ],
      "execution_count": 215,
      "outputs": [
        {
          "output_type": "execute_result",
          "data": {
            "text/html": [
              "<div>\n",
              "<style scoped>\n",
              "    .dataframe tbody tr th:only-of-type {\n",
              "        vertical-align: middle;\n",
              "    }\n",
              "\n",
              "    .dataframe tbody tr th {\n",
              "        vertical-align: top;\n",
              "    }\n",
              "\n",
              "    .dataframe thead th {\n",
              "        text-align: right;\n",
              "    }\n",
              "</style>\n",
              "<table border=\"1\" class=\"dataframe\">\n",
              "  <thead>\n",
              "    <tr style=\"text-align: right;\">\n",
              "      <th></th>\n",
              "      <th>0</th>\n",
              "      <th>1</th>\n",
              "      <th>2</th>\n",
              "      <th>3</th>\n",
              "      <th>4</th>\n",
              "    </tr>\n",
              "  </thead>\n",
              "  <tbody>\n",
              "    <tr>\n",
              "      <th>0</th>\n",
              "      <td>5.1</td>\n",
              "      <td>3.5</td>\n",
              "      <td>1.4</td>\n",
              "      <td>0.2</td>\n",
              "      <td>Iris-setosa</td>\n",
              "    </tr>\n",
              "    <tr>\n",
              "      <th>1</th>\n",
              "      <td>4.9</td>\n",
              "      <td>3.0</td>\n",
              "      <td>1.4</td>\n",
              "      <td>0.2</td>\n",
              "      <td>Iris-setosa</td>\n",
              "    </tr>\n",
              "    <tr>\n",
              "      <th>2</th>\n",
              "      <td>4.7</td>\n",
              "      <td>3.2</td>\n",
              "      <td>1.3</td>\n",
              "      <td>0.2</td>\n",
              "      <td>Iris-setosa</td>\n",
              "    </tr>\n",
              "    <tr>\n",
              "      <th>3</th>\n",
              "      <td>4.6</td>\n",
              "      <td>3.1</td>\n",
              "      <td>1.5</td>\n",
              "      <td>0.2</td>\n",
              "      <td>Iris-setosa</td>\n",
              "    </tr>\n",
              "    <tr>\n",
              "      <th>4</th>\n",
              "      <td>5.0</td>\n",
              "      <td>3.6</td>\n",
              "      <td>1.4</td>\n",
              "      <td>0.2</td>\n",
              "      <td>Iris-setosa</td>\n",
              "    </tr>\n",
              "  </tbody>\n",
              "</table>\n",
              "</div>"
            ],
            "text/plain": [
              "     0    1    2    3            4\n",
              "0  5.1  3.5  1.4  0.2  Iris-setosa\n",
              "1  4.9  3.0  1.4  0.2  Iris-setosa\n",
              "2  4.7  3.2  1.3  0.2  Iris-setosa\n",
              "3  4.6  3.1  1.5  0.2  Iris-setosa\n",
              "4  5.0  3.6  1.4  0.2  Iris-setosa"
            ]
          },
          "metadata": {
            "tags": []
          },
          "execution_count": 215
        }
      ]
    },
    {
      "cell_type": "markdown",
      "metadata": {
        "id": "gw-S9l1jSRim"
      },
      "source": [
        "Initializarea centroizilor\n",
        "Se pot alege centroizi random din setul de date sau se pot pre-initializa cu anumite valori (de exemplu prima valoare, ultima valoarea si o valoare din mijlocul setului de date)"
      ]
    },
    {
      "cell_type": "code",
      "metadata": {
        "colab": {
          "base_uri": "https://localhost:8080/"
        },
        "id": "Gw6fZYtniKgc",
        "outputId": "adc39cd4-5b49-4943-d6f0-d6b95c2e59d3"
      },
      "source": [
        "#init centroids\n",
        "import numpy as np\n",
        "\n",
        "k = 3\n",
        "random_centroids = data_frame.sample(n=k).values[:, :-1] #dont need the last value, the label\n",
        "print(\"Random: \", random_centroids)\n",
        "\n",
        "print(data[0]) #first\n",
        "print(data[-1]) #last\n",
        "print(data[round(len(data)/2)+1]) #middle\n",
        "\n",
        "predefined_centroids = np.empty((0, 4))\n",
        "predefined_centroids = np.append(predefined_centroids, np.array([data[0]]), axis=0)\n",
        "predefined_centroids = np.append(predefined_centroids, np.array([data[-1]]), axis=0)\n",
        "predefined_centroids = np.append(predefined_centroids, np.array([data[round(len(data)/2)]]), axis=0)\n",
        "print(\"\\nPredefined: \", predefined_centroids)"
      ],
      "execution_count": 216,
      "outputs": [
        {
          "output_type": "stream",
          "text": [
            "Random:  [[5.6 3.0 4.1 1.3]\n",
            " [6.3 2.5 4.9 1.5]\n",
            " [5.4 3.4 1.7 0.2]]\n",
            "[5.1 3.5 1.4 0.2]\n",
            "[5.9 3.0 5.1 1.8]\n",
            "[6.8 2.8 4.8 1.4]\n",
            "\n",
            "Predefined:  [[5.1 3.5 1.4 0.2]\n",
            " [5.9 3.0 5.1 1.8]\n",
            " [6.6 3.0 4.4 1.4]]\n"
          ],
          "name": "stdout"
        }
      ]
    },
    {
      "cell_type": "markdown",
      "metadata": {
        "id": "9FDlz9QwTBrV"
      },
      "source": [
        "Functia pe calcularea distantei dintre 2 puncte (in cazul de fata 2 vectori cu cate 4 feature-uri numerice, fara al 5-lea label)"
      ]
    },
    {
      "cell_type": "code",
      "metadata": {
        "id": "1T1H6BetbPHX"
      },
      "source": [
        "import numpy as np\n",
        "from numpy.linalg import norm\n",
        "\n",
        "def euclidian_distance(a, b): \n",
        "  return norm(np.array(a)-np.array(b)) #ultima valoare este un label, nu poti calcual distanta de string, doar de nr"
      ],
      "execution_count": 217,
      "outputs": []
    },
    {
      "cell_type": "markdown",
      "metadata": {
        "id": "2m72ECBoTP8z"
      },
      "source": [
        "**get_closest_centroid**: returneaza indexul centroidului cel mai apropiat de punctul dat\n",
        "\n",
        "**compute_clusters**: returneaza k clustere ce vor contine elemente din 'spectrul' centroidului corespunzator fiecarui cluster\n",
        "\n",
        "**compute_new_centroids**: calculeaza media artimetica a tuturor punctelor (vectorilor) dintr-un anumit cluster, si se vor obtine noi k centroizi fata de care se va relua procesul de incadrare a punctelor din dataset intr-un anumit cluster\n",
        "\n",
        "**compute_sse**: calculeaza sum squarred error adica variata centroizilor. Daca mai exista o schimbare in alegerea centroizilor, in cazul in care nu mai exista, centroizii alesi reprezinta solutia cea mai optima de clusterizare a datelor"
      ]
    },
    {
      "cell_type": "code",
      "metadata": {
        "id": "pJN6li1SSnja"
      },
      "source": [
        "import numpy as np\n",
        "\n",
        "#returneaza indexul centroidul de care punctul curent este cel mai apropiat\n",
        "def get_closest_centroid(data_point, centroids):\n",
        "  #print(centroids)\n",
        "  distances_to_centroids = [] #lista care va contine cele k distante de la punct la fiecare centroid\n",
        "  for centroid in centroids:\n",
        "    distances_to_centroids.append(euclidian_distance(data_point, centroid))\n",
        "    #print(distances_to_centroids)\n",
        "\n",
        "  #cu cat mai mica distanta cu atat e mai aproape punctul curent de centroidul respectiv\n",
        "  closest_centroid_index = np.argmin(distances_to_centroids)\n",
        "  return closest_centroid_index\n",
        "\n",
        "#returenaza k clustere ce vor contine elementele cele mai apropiate de fiecare centroid (apartinator fiecarui cluster)\n",
        "def compute_clusters(data, centroids, k):\n",
        "  #print(centroids)\n",
        "  clusters = [[] for _ in range(k)] #k clustere\n",
        "\n",
        "  #fiecare centroid_index va corespunde unui cluster, si in functie de centroidul de care este punctul curent cel mai apropiat\n",
        "  #punctul respectiv va fi introdus in clusterul  aferent (dat de centroid print indexul acestuia)\n",
        "  for data_point_index, data_point in enumerate(data):\n",
        "    centroid_index = get_closest_centroid(data_point, centroids)\n",
        "    clusters[centroid_index].append(data_point_index)\n",
        "    \n",
        "    #clusters[centroid_index].append(data_point)\n",
        "  return clusters\n",
        "\n",
        "#assign teh mean value of the clusters to teh centrois\n",
        "#for each cluster we calculate the mean\n",
        "def compute_new_centroids(k, data_points, clusters, centroids):\n",
        "  new_centroids = np.full_like(centroids, 0) #init new centroids with\n",
        "  for cluster_idnex, cluster in enumerate (clusters):\n",
        "    if len(data_points[cluster]) > 0:\n",
        "      cluster_mean = np.mean(data_points[cluster], axis=0)\n",
        "      #print(cluster_mean)\n",
        "      new_centroids[cluster_idnex] = cluster_mean\n",
        "    \n",
        "  return new_centroids\n",
        "\n",
        "#verifica daca distanta dintre centroizi s-a schimbat\n",
        "def compute_sse(k, centroids_old, centroids):\n",
        "  distances = [euclidian_distance(centroids_old[i], centroids[i]) for i in range(k)]\n",
        "  return sum(distances)\n",
        "\n",
        "\n"
      ],
      "execution_count": 218,
      "outputs": []
    },
    {
      "cell_type": "code",
      "metadata": {
        "colab": {
          "base_uri": "https://localhost:8080/"
        },
        "id": "l1Sj5vkGBUbG",
        "outputId": "ee671c95-8450-400c-9b2a-52233b2f9222"
      },
      "source": [
        "get_closest_centroid(data, predefined_centroids)\n",
        "cc = compute_clusters(data, predefined_centroids,3)\n",
        "print(predefined_centroids)\n",
        "compute_new_centroids(k, data, cc, predefined_centroids)"
      ],
      "execution_count": 219,
      "outputs": [
        {
          "output_type": "stream",
          "text": [
            "[[5.1 3.5 1.4 0.2]\n",
            " [5.9 3.0 5.1 1.8]\n",
            " [6.6 3.0 4.4 1.4]]\n"
          ],
          "name": "stdout"
        },
        {
          "output_type": "execute_result",
          "data": {
            "text/plain": [
              "array([[5.007843137254902, 3.400000000000001, 1.4941176470588236,\n",
              "        0.2607843137254901],\n",
              "       [6.457627118644065, 2.9593220338983044, 5.401694915254236,\n",
              "        1.9440677966101692],\n",
              "       [6.002499999999999, 2.7525, 4.2225, 1.2949999999999995]],\n",
              "      dtype=object)"
            ]
          },
          "metadata": {
            "tags": []
          },
          "execution_count": 219
        }
      ]
    },
    {
      "cell_type": "markdown",
      "metadata": {
        "id": "Dcrf4a4kU2K9"
      },
      "source": [
        "Algoritmul kmeans\n",
        "max_iterations: dupa cate iteratii sa se sfarseasca algoritmul\n",
        "k: \n",
        "error_margin: variata maxima admisa\n",
        "data: setul de date\n",
        "centroids: setul nitial de centroizi"
      ]
    },
    {
      "cell_type": "code",
      "metadata": {
        "id": "SsrSPHw6YZSC"
      },
      "source": [
        "import numpy as np\n",
        "import time\n",
        "\n",
        "def kmeans(max_iterations, k, error_margin, data=data, centroids=predefined_centroids):\n",
        "  print(centroids)\n",
        "  \n",
        "  clusters=[[] for _ in range (k)]\n",
        "\n",
        "  for i in range(max_iterations):\n",
        "    print(\"\\n\\n\")\n",
        "    start = time.time()\n",
        "    clusters = compute_clusters(data, centroids, k)\n",
        "    #tine minte vechii centroizi ca sa vezi convergenta\n",
        "    centroids_old = centroids\n",
        "    centroids = compute_new_centroids(k, data, clusters, centroids)\n",
        "\n",
        "    sq_error = compute_sse(k, centroids_old, centroids)  \n",
        "    if sq_error <= error_margin:\n",
        "      stop = time.time()\n",
        "      duration = stop-start\n",
        "      print(\"Iteration \", i+1, \" algoritm has converged, variance: \", sq_error, \", duration: \", duration)\n",
        "      break\n",
        "      \n",
        "    stop = time.time()\n",
        "    duration = stop-start\n",
        "    print(\"Iteration \", i+1, \", variance: \", sq_error, \", duration: \", duration)\n",
        "  \n",
        "    for _ in range (k):\n",
        "        print(\"\\tCluster \", _, \": \", len(clusters[_]))\n",
        "\n",
        "  for _ in range (k):\n",
        "        print(\"\\n Cluster \", _, \": \", len(clusters[_]))\n",
        "  return (clusters, centroids)\n",
        "      "
      ],
      "execution_count": 220,
      "outputs": []
    },
    {
      "cell_type": "code",
      "metadata": {
        "colab": {
          "base_uri": "https://localhost:8080/"
        },
        "id": "LH9jT_JghrS5",
        "outputId": "e97795b1-a941-467a-c78d-a3bb286901e9"
      },
      "source": [
        "\n",
        "print(predefined_centroids)\n",
        "print(random_centroids)\n",
        "(resulted_clusters, optim_centroids) = kmeans(7, 3, 0, data, random_centroids)"
      ],
      "execution_count": 221,
      "outputs": [
        {
          "output_type": "stream",
          "text": [
            "[[5.1 3.5 1.4 0.2]\n",
            " [5.9 3.0 5.1 1.8]\n",
            " [6.6 3.0 4.4 1.4]]\n",
            "[[5.6 3.0 4.1 1.3]\n",
            " [6.3 2.5 4.9 1.5]\n",
            " [5.4 3.4 1.7 0.2]]\n",
            "[[5.6 3.0 4.1 1.3]\n",
            " [6.3 2.5 4.9 1.5]\n",
            " [5.4 3.4 1.7 0.2]]\n",
            "\n",
            "\n",
            "\n",
            "Iteration  1 , variance:  1.5661984346598896 , duration:  0.009661197662353516\n",
            "\tCluster  0 :  31\n",
            "\tCluster  1 :  69\n",
            "\tCluster  2 :  50\n",
            "\n",
            "\n",
            "\n",
            "Iteration  2 , variance:  0.1966118462793534 , duration:  0.009034156799316406\n",
            "\tCluster  0 :  36\n",
            "\tCluster  1 :  64\n",
            "\tCluster  2 :  50\n",
            "\n",
            "\n",
            "\n",
            "Iteration  3 , variance:  0.14564990035668446 , duration:  0.007001638412475586\n",
            "\tCluster  0 :  40\n",
            "\tCluster  1 :  60\n",
            "\tCluster  2 :  50\n",
            "\n",
            "\n",
            "\n",
            "Iteration  4 , variance:  0.1824408422639 , duration:  0.008821964263916016\n",
            "\tCluster  0 :  45\n",
            "\tCluster  1 :  55\n",
            "\tCluster  2 :  50\n",
            "\n",
            "\n",
            "\n",
            "Iteration  5 , variance:  0.13955467813087297 , duration:  0.008734703063964844\n",
            "\tCluster  0 :  49\n",
            "\tCluster  1 :  51\n",
            "\tCluster  2 :  50\n",
            "\n",
            "\n",
            "\n",
            "Iteration  6 , variance:  0.18542144045488335 , duration:  0.017277240753173828\n",
            "\tCluster  0 :  54\n",
            "\tCluster  1 :  46\n",
            "\tCluster  2 :  50\n",
            "\n",
            "\n",
            "\n",
            "Iteration  7 , variance:  0.10704417124161314 , duration:  0.008706331253051758\n",
            "\tCluster  0 :  57\n",
            "\tCluster  1 :  43\n",
            "\tCluster  2 :  50\n",
            "\n",
            " Cluster  0 :  57\n",
            "\n",
            " Cluster  1 :  43\n",
            "\n",
            " Cluster  2 :  50\n"
          ],
          "name": "stdout"
        }
      ]
    },
    {
      "cell_type": "code",
      "metadata": {
        "colab": {
          "base_uri": "https://localhost:8080/",
          "height": 668
        },
        "id": "vjn982rVkz3o",
        "outputId": "3de79e93-c311-4503-a72d-43f1f4695227"
      },
      "source": [
        "import matplotlib.pyplot as plt\n",
        "print(resulted_clusters)\n",
        "cluster_labels =['cluster1','cluster2', 'cluster3']\n",
        "colors = {'cluster1':'red', 'cluster2':'green', 'cluster3':'blue'}\n",
        "\n",
        "fig = plt.figure(figsize=(10, 10))\n",
        "ax = fig.add_subplot(111)\n",
        "\n",
        "\n",
        "for cluster_idnex, cluster in enumerate (resulted_clusters):\n",
        "    cluster_data = iris_data[cluster]\n",
        "    plt.scatter(cluster_data[:,0], cluster_data[:,1], cmap='gist_rainbow')\n",
        "    # for xy in zip(cluster_data[:,0], cluster_data[:,1]):\n",
        "    #   ax.annotate('(%s)' %cluster_data[0], xy=xy, textcoords='data')\n",
        "\n",
        "ax.set_title('click on points')\n",
        "\n",
        "plt.scatter(cent[:,0], cent[:,1], cmap='gist_rainbow')\n",
        "plt.xlabel('Sepal Length', fontsize=18)\n",
        "plt.ylabel('Sepal Width', fontsize=18)\n",
        "plt.show()\n"
      ],
      "execution_count": 222,
      "outputs": [
        {
          "output_type": "stream",
          "text": [
            "[[51, 53, 54, 55, 56, 57, 58, 59, 60, 61, 62, 63, 64, 65, 66, 67, 68, 69, 70, 71, 72, 73, 74, 75, 78, 79, 80, 81, 82, 83, 84, 85, 86, 87, 88, 89, 90, 91, 92, 93, 94, 95, 96, 97, 98, 99, 101, 106, 113, 119, 121, 123, 126, 127, 138, 142, 149], [50, 52, 76, 77, 100, 102, 103, 104, 105, 107, 108, 109, 110, 111, 112, 114, 115, 116, 117, 118, 120, 122, 124, 125, 128, 129, 130, 131, 132, 133, 134, 135, 136, 137, 139, 140, 141, 143, 144, 145, 146, 147, 148], [0, 1, 2, 3, 4, 5, 6, 7, 8, 9, 10, 11, 12, 13, 14, 15, 16, 17, 18, 19, 20, 21, 22, 23, 24, 25, 26, 27, 28, 29, 30, 31, 32, 33, 34, 35, 36, 37, 38, 39, 40, 41, 42, 43, 44, 45, 46, 47, 48, 49]]\n"
          ],
          "name": "stdout"
        },
        {
          "output_type": "display_data",
          "data": {
            "image/png": "[encoded data removed]",
            "text/plain": [
              "<Figure size 720x720 with 1 Axes>"
            ]
          },
          "metadata": {
            "tags": [],
            "needs_background": "light"
          }
        }
      ]
    }
  ]
}